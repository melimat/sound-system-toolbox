{
 "cells": [
  {
   "cell_type": "markdown",
   "id": "0aec9cee-217a-492a-bfea-88ea8e11f089",
   "metadata": {
    "tags": []
   },
   "source": [
    "# Import TF z GLL do OSM"
   ]
  },
  {
   "cell_type": "markdown",
   "id": "2f46758f-cfc7-47de-9271-3af2b135354a",
   "metadata": {},
   "source": [
    "## Import potřebných knihoven"
   ]
  },
  {
   "cell_type": "code",
   "execution_count": 2,
   "id": "a7b5164f-f607-4669-80d8-a2bc999077e8",
   "metadata": {},
   "outputs": [],
   "source": [
    "import pandas as pd"
   ]
  },
  {
   "cell_type": "markdown",
   "id": "2d4eca0a-63f4-4507-9262-e6c321b81a3a",
   "metadata": {},
   "source": [
    "## Import dat"
   ]
  },
  {
   "cell_type": "code",
   "execution_count": 6,
   "id": "e632ef2b-e320-41c3-916b-0429998ee46e",
   "metadata": {},
   "outputs": [],
   "source": [
    "v7p_cut_off_filepath = \"C:\\Sound\\Measure\\d&b-V7P\\V7P-CUT-Off.txt\"\n",
    "v7p_cut_on_filepath = \"C:\\Sound\\Measure\\d&b-V7P\\V7P-CUT-On.txt\"\n",
    "v7p_cut_off_absolute_tf = pd.read_csv(delimiter=\"\\t\", skiprows=6, names=[\"Freq\",\"Magnitude\",\"Phase\"], filepath_or_buffer=v7p_cut_off_filepath)\n",
    "v7p_cut_on_absolute_tf = pd.read_csv(delimiter=\"\\t\", skiprows=6, names=[\"Freq\",\"Magnitude\",\"Phase\"], filepath_or_buffer=v7p_cut_on_filepath)"
   ]
  },
  {
   "cell_type": "code",
   "execution_count": 7,
   "id": "efc10ec3-378e-4810-a211-4ce14c931053",
   "metadata": {},
   "outputs": [
    {
     "data": {
      "text/html": [
       "<div>\n",
       "<style scoped>\n",
       "    .dataframe tbody tr th:only-of-type {\n",
       "        vertical-align: middle;\n",
       "    }\n",
       "\n",
       "    .dataframe tbody tr th {\n",
       "        vertical-align: top;\n",
       "    }\n",
       "\n",
       "    .dataframe thead th {\n",
       "        text-align: right;\n",
       "    }\n",
       "</style>\n",
       "<table border=\"1\" class=\"dataframe\">\n",
       "  <thead>\n",
       "    <tr style=\"text-align: right;\">\n",
       "      <th></th>\n",
       "      <th>Freq</th>\n",
       "      <th>Magnitude</th>\n",
       "      <th>Phase</th>\n",
       "    </tr>\n",
       "  </thead>\n",
       "  <tbody>\n",
       "    <tr>\n",
       "      <th>0</th>\n",
       "      <td>22.4</td>\n",
       "      <td>80.7</td>\n",
       "      <td>-4.2</td>\n",
       "    </tr>\n",
       "    <tr>\n",
       "      <th>1</th>\n",
       "      <td>23.0</td>\n",
       "      <td>82.0</td>\n",
       "      <td>-1.9</td>\n",
       "    </tr>\n",
       "    <tr>\n",
       "      <th>2</th>\n",
       "      <td>23.6</td>\n",
       "      <td>83.4</td>\n",
       "      <td>-0.6</td>\n",
       "    </tr>\n",
       "    <tr>\n",
       "      <th>3</th>\n",
       "      <td>24.0</td>\n",
       "      <td>85.5</td>\n",
       "      <td>-8.3</td>\n",
       "    </tr>\n",
       "    <tr>\n",
       "      <th>4</th>\n",
       "      <td>25.0</td>\n",
       "      <td>87.4</td>\n",
       "      <td>-18.0</td>\n",
       "    </tr>\n",
       "    <tr>\n",
       "      <th>...</th>\n",
       "      <td>...</td>\n",
       "      <td>...</td>\n",
       "      <td>...</td>\n",
       "    </tr>\n",
       "    <tr>\n",
       "      <th>236</th>\n",
       "      <td>20000.0</td>\n",
       "      <td>124.7</td>\n",
       "      <td>23.0</td>\n",
       "    </tr>\n",
       "    <tr>\n",
       "      <th>237</th>\n",
       "      <td>20600.0</td>\n",
       "      <td>122.4</td>\n",
       "      <td>-98.1</td>\n",
       "    </tr>\n",
       "    <tr>\n",
       "      <th>238</th>\n",
       "      <td>21200.0</td>\n",
       "      <td>120.6</td>\n",
       "      <td>72.5</td>\n",
       "    </tr>\n",
       "    <tr>\n",
       "      <th>239</th>\n",
       "      <td>21800.0</td>\n",
       "      <td>117.8</td>\n",
       "      <td>-162.1</td>\n",
       "    </tr>\n",
       "    <tr>\n",
       "      <th>240</th>\n",
       "      <td>22400.0</td>\n",
       "      <td>114.4</td>\n",
       "      <td>-10.2</td>\n",
       "    </tr>\n",
       "  </tbody>\n",
       "</table>\n",
       "<p>241 rows × 3 columns</p>\n",
       "</div>"
      ],
      "text/plain": [
       "        Freq  Magnitude  Phase\n",
       "0       22.4       80.7   -4.2\n",
       "1       23.0       82.0   -1.9\n",
       "2       23.6       83.4   -0.6\n",
       "3       24.0       85.5   -8.3\n",
       "4       25.0       87.4  -18.0\n",
       "..       ...        ...    ...\n",
       "236  20000.0      124.7   23.0\n",
       "237  20600.0      122.4  -98.1\n",
       "238  21200.0      120.6   72.5\n",
       "239  21800.0      117.8 -162.1\n",
       "240  22400.0      114.4  -10.2\n",
       "\n",
       "[241 rows x 3 columns]"
      ]
     },
     "execution_count": 7,
     "metadata": {},
     "output_type": "execute_result"
    }
   ],
   "source": [
    "v7p_cut_off_absolute_tf"
   ]
  },
  {
   "cell_type": "code",
   "execution_count": 8,
   "id": "184e0303-997e-45d8-a73e-82d314c888a5",
   "metadata": {},
   "outputs": [
    {
     "data": {
      "text/html": [
       "<div>\n",
       "<style scoped>\n",
       "    .dataframe tbody tr th:only-of-type {\n",
       "        vertical-align: middle;\n",
       "    }\n",
       "\n",
       "    .dataframe tbody tr th {\n",
       "        vertical-align: top;\n",
       "    }\n",
       "\n",
       "    .dataframe thead th {\n",
       "        text-align: right;\n",
       "    }\n",
       "</style>\n",
       "<table border=\"1\" class=\"dataframe\">\n",
       "  <thead>\n",
       "    <tr style=\"text-align: right;\">\n",
       "      <th></th>\n",
       "      <th>Freq</th>\n",
       "      <th>Magnitude</th>\n",
       "      <th>Phase</th>\n",
       "    </tr>\n",
       "  </thead>\n",
       "  <tbody>\n",
       "    <tr>\n",
       "      <th>0</th>\n",
       "      <td>22.4</td>\n",
       "      <td>74.4</td>\n",
       "      <td>-13.0</td>\n",
       "    </tr>\n",
       "    <tr>\n",
       "      <th>1</th>\n",
       "      <td>23.0</td>\n",
       "      <td>75.7</td>\n",
       "      <td>-10.9</td>\n",
       "    </tr>\n",
       "    <tr>\n",
       "      <th>2</th>\n",
       "      <td>23.6</td>\n",
       "      <td>77.0</td>\n",
       "      <td>-9.7</td>\n",
       "    </tr>\n",
       "    <tr>\n",
       "      <th>3</th>\n",
       "      <td>24.0</td>\n",
       "      <td>79.0</td>\n",
       "      <td>-17.4</td>\n",
       "    </tr>\n",
       "    <tr>\n",
       "      <th>4</th>\n",
       "      <td>25.0</td>\n",
       "      <td>80.8</td>\n",
       "      <td>-27.2</td>\n",
       "    </tr>\n",
       "    <tr>\n",
       "      <th>...</th>\n",
       "      <td>...</td>\n",
       "      <td>...</td>\n",
       "      <td>...</td>\n",
       "    </tr>\n",
       "    <tr>\n",
       "      <th>236</th>\n",
       "      <td>20000.0</td>\n",
       "      <td>124.7</td>\n",
       "      <td>23.3</td>\n",
       "    </tr>\n",
       "    <tr>\n",
       "      <th>237</th>\n",
       "      <td>20600.0</td>\n",
       "      <td>122.4</td>\n",
       "      <td>-97.9</td>\n",
       "    </tr>\n",
       "    <tr>\n",
       "      <th>238</th>\n",
       "      <td>21200.0</td>\n",
       "      <td>120.6</td>\n",
       "      <td>72.7</td>\n",
       "    </tr>\n",
       "    <tr>\n",
       "      <th>239</th>\n",
       "      <td>21800.0</td>\n",
       "      <td>117.8</td>\n",
       "      <td>-161.9</td>\n",
       "    </tr>\n",
       "    <tr>\n",
       "      <th>240</th>\n",
       "      <td>22400.0</td>\n",
       "      <td>114.4</td>\n",
       "      <td>-10.0</td>\n",
       "    </tr>\n",
       "  </tbody>\n",
       "</table>\n",
       "<p>241 rows × 3 columns</p>\n",
       "</div>"
      ],
      "text/plain": [
       "        Freq  Magnitude  Phase\n",
       "0       22.4       74.4  -13.0\n",
       "1       23.0       75.7  -10.9\n",
       "2       23.6       77.0   -9.7\n",
       "3       24.0       79.0  -17.4\n",
       "4       25.0       80.8  -27.2\n",
       "..       ...        ...    ...\n",
       "236  20000.0      124.7   23.3\n",
       "237  20600.0      122.4  -97.9\n",
       "238  21200.0      120.6   72.7\n",
       "239  21800.0      117.8 -161.9\n",
       "240  22400.0      114.4  -10.0\n",
       "\n",
       "[241 rows x 3 columns]"
      ]
     },
     "execution_count": 8,
     "metadata": {},
     "output_type": "execute_result"
    }
   ],
   "source": [
    "v7p_cut_on_absolute_tf"
   ]
  },
  {
   "cell_type": "markdown",
   "id": "d180c508-a641-4d0f-ae30-33afe50f1311",
   "metadata": {},
   "source": [
    "## Normalizace"
   ]
  },
  {
   "cell_type": "code",
   "execution_count": 19,
   "id": "06624f64-66b4-4c00-8952-820960973903",
   "metadata": {},
   "outputs": [],
   "source": [
    "v7p_cut_off_absolute_tf[\"Magnitude\"] = pd.to_numeric(v7p_cut_off_absolute_tf[\"Magnitude\"])\n",
    "v7p_cut_on_absolute_tf[\"Magnitude\"] = pd.to_numeric(v7p_cut_on_absolute_tf[\"Magnitude\"])"
   ]
  },
  {
   "cell_type": "code",
   "execution_count": 20,
   "id": "fddf96a5-789a-4764-9381-576d07d4e701",
   "metadata": {},
   "outputs": [],
   "source": [
    "v7p_cut_off_absolute_tf[\"Freq\"] = pd.to_numeric(v7p_cut_off_absolute_tf[\"Freq\"])\n",
    "v7p_cut_on_absolute_tf[\"Freq\"] = pd.to_numeric(v7p_cut_on_absolute_tf[\"Freq\"])"
   ]
  },
  {
   "cell_type": "code",
   "execution_count": 6,
   "id": "cb933de2-39fa-4b92-a811-3853c90ed4a0",
   "metadata": {},
   "outputs": [],
   "source": [
    "def calculate_mean_from_to( from_freq : float, to_freq : float, data : pd.DataFrame ) -> float:\n",
    "    data_from_to = data.loc[(data[\"Freq\"] >= from_freq) & (data[\"Freq\"] <= to_freq)]\n",
    "    magnitude_mean = data_from_to[\"Magnitude\"].mean()\n",
    "    return magnitude_mean"
   ]
  },
  {
   "cell_type": "code",
   "execution_count": 22,
   "id": "adb73afc-b050-46a3-9504-779795e986f0",
   "metadata": {},
   "outputs": [],
   "source": [
    "cut_off_mean = calculate_mean_from_to(100, 20000, v7p_cut_off_absolute_tf)\n",
    "cut_on_mean = calculate_mean_from_to(125, 20000, v7p_cut_on_absolute_tf)"
   ]
  },
  {
   "cell_type": "code",
   "execution_count": 23,
   "id": "b4d6d5df-9b70-46ca-bb91-0054af8019b0",
   "metadata": {},
   "outputs": [],
   "source": [
    "v7p_cut_off_absolute_tf[\"Magnitude\"] = v7p_cut_off_absolute_tf[\"Magnitude\"] - cut_off_mean\n",
    "v7p_cut_on_absolute_tf[\"Magnitude\"] = v7p_cut_on_absolute_tf[\"Magnitude\"] - cut_on_mean"
   ]
  },
  {
   "cell_type": "code",
   "execution_count": 24,
   "id": "52d5f9b5-7f57-4852-bf6b-784e911ef9f5",
   "metadata": {},
   "outputs": [
    {
     "data": {
      "text/html": [
       "<div>\n",
       "<style scoped>\n",
       "    .dataframe tbody tr th:only-of-type {\n",
       "        vertical-align: middle;\n",
       "    }\n",
       "\n",
       "    .dataframe tbody tr th {\n",
       "        vertical-align: top;\n",
       "    }\n",
       "\n",
       "    .dataframe thead th {\n",
       "        text-align: right;\n",
       "    }\n",
       "</style>\n",
       "<table border=\"1\" class=\"dataframe\">\n",
       "  <thead>\n",
       "    <tr style=\"text-align: right;\">\n",
       "      <th></th>\n",
       "      <th>Freq</th>\n",
       "      <th>Magnitude</th>\n",
       "      <th>Phase</th>\n",
       "    </tr>\n",
       "  </thead>\n",
       "  <tbody>\n",
       "    <tr>\n",
       "      <th>0</th>\n",
       "      <td>22.4</td>\n",
       "      <td>-57.578919</td>\n",
       "      <td>-4.2</td>\n",
       "    </tr>\n",
       "    <tr>\n",
       "      <th>1</th>\n",
       "      <td>23.0</td>\n",
       "      <td>-56.278919</td>\n",
       "      <td>-1.9</td>\n",
       "    </tr>\n",
       "    <tr>\n",
       "      <th>2</th>\n",
       "      <td>23.6</td>\n",
       "      <td>-54.878919</td>\n",
       "      <td>-0.6</td>\n",
       "    </tr>\n",
       "    <tr>\n",
       "      <th>3</th>\n",
       "      <td>24.0</td>\n",
       "      <td>-52.778919</td>\n",
       "      <td>-8.3</td>\n",
       "    </tr>\n",
       "    <tr>\n",
       "      <th>4</th>\n",
       "      <td>25.0</td>\n",
       "      <td>-50.878919</td>\n",
       "      <td>-18.0</td>\n",
       "    </tr>\n",
       "    <tr>\n",
       "      <th>...</th>\n",
       "      <td>...</td>\n",
       "      <td>...</td>\n",
       "      <td>...</td>\n",
       "    </tr>\n",
       "    <tr>\n",
       "      <th>236</th>\n",
       "      <td>20000.0</td>\n",
       "      <td>-13.578919</td>\n",
       "      <td>23.0</td>\n",
       "    </tr>\n",
       "    <tr>\n",
       "      <th>237</th>\n",
       "      <td>20600.0</td>\n",
       "      <td>-15.878919</td>\n",
       "      <td>-98.1</td>\n",
       "    </tr>\n",
       "    <tr>\n",
       "      <th>238</th>\n",
       "      <td>21200.0</td>\n",
       "      <td>-17.678919</td>\n",
       "      <td>72.5</td>\n",
       "    </tr>\n",
       "    <tr>\n",
       "      <th>239</th>\n",
       "      <td>21800.0</td>\n",
       "      <td>-20.478919</td>\n",
       "      <td>-162.1</td>\n",
       "    </tr>\n",
       "    <tr>\n",
       "      <th>240</th>\n",
       "      <td>22400.0</td>\n",
       "      <td>-23.878919</td>\n",
       "      <td>-10.2</td>\n",
       "    </tr>\n",
       "  </tbody>\n",
       "</table>\n",
       "<p>241 rows × 3 columns</p>\n",
       "</div>"
      ],
      "text/plain": [
       "        Freq  Magnitude  Phase\n",
       "0       22.4 -57.578919   -4.2\n",
       "1       23.0 -56.278919   -1.9\n",
       "2       23.6 -54.878919   -0.6\n",
       "3       24.0 -52.778919   -8.3\n",
       "4       25.0 -50.878919  -18.0\n",
       "..       ...        ...    ...\n",
       "236  20000.0 -13.578919   23.0\n",
       "237  20600.0 -15.878919  -98.1\n",
       "238  21200.0 -17.678919   72.5\n",
       "239  21800.0 -20.478919 -162.1\n",
       "240  22400.0 -23.878919  -10.2\n",
       "\n",
       "[241 rows x 3 columns]"
      ]
     },
     "execution_count": 24,
     "metadata": {},
     "output_type": "execute_result"
    }
   ],
   "source": [
    "v7p_cut_off_absolute_tf"
   ]
  },
  {
   "cell_type": "markdown",
   "id": "9a82ff34-f981-4027-ac55-245734b8339c",
   "metadata": {},
   "source": [
    "## Export"
   ]
  },
  {
   "cell_type": "code",
   "execution_count": 28,
   "id": "522b1f6e-345c-479a-898d-06b6c0f7e73d",
   "metadata": {},
   "outputs": [],
   "source": [
    "v7p_cut_off_tf_path = \"C:\\Sound\\Measure\\d&b-V7P\\V7P-CUT-Off.csv\"\n",
    "v7p_cut_on_tf_path = \"C:\\Sound\\Measure\\d&b-V7P\\V7P-CUT-On.csv\""
   ]
  },
  {
   "cell_type": "code",
   "execution_count": 30,
   "id": "e681c12f-2bfc-4dc5-8b7b-483a1a489795",
   "metadata": {},
   "outputs": [],
   "source": [
    "v7p_cut_off_absolute_tf.to_csv(path_or_buf=v7p_cut_off_tf_path, header=False, index=False, encoding=\"utf-8\")\n",
    "v7p_cut_on_absolute_tf.to_csv(path_or_buf=v7p_cut_on_tf_path, header=False, index=False, encoding=\"utf-8\")"
   ]
  },
  {
   "cell_type": "markdown",
   "id": "02e13486-cb60-439d-b57a-77931118d896",
   "metadata": {},
   "source": [
    "## V-SUB"
   ]
  },
  {
   "cell_type": "code",
   "execution_count": 3,
   "id": "a674363a-9f1d-424f-aa1c-5e223a075afa",
   "metadata": {},
   "outputs": [],
   "source": [
    "v_sub_100_off_path = \"C:\\Sound\\Measure\\d&b-V7P\\V-SUB-100Hz-OFF.txt\"\n",
    "v_sub_100_on_path = \"C:\\Sound\\Measure\\d&b-V7P\\V-SUB-100Hz-ON.txt\""
   ]
  },
  {
   "cell_type": "code",
   "execution_count": 5,
   "id": "295542d4-50b1-42f1-9f18-81167e5b3cb2",
   "metadata": {},
   "outputs": [],
   "source": [
    "v_sub_100_off_tf = pd.read_csv(delimiter=\"\\t\", skiprows=6, names=[\"Freq\",\"Magnitude\",\"Phase\"], filepath_or_buffer=v_sub_100_off_path)\n",
    "v_sub_100_on_tf = pd.read_csv(delimiter=\"\\t\", skiprows=6, names=[\"Freq\",\"Magnitude\",\"Phase\"], filepath_or_buffer=v_sub_100_on_path)"
   ]
  },
  {
   "cell_type": "code",
   "execution_count": 7,
   "id": "1d38f0f2-e6b2-4146-be7d-40c3f5c6a6a8",
   "metadata": {},
   "outputs": [],
   "source": [
    "v_sub_100_off_offset = calculate_mean_from_to(50, 63, v_sub_100_off_tf)\n",
    "v_sub_100_on_offset = calculate_mean_from_to(50, 63, v_sub_100_on_tf)"
   ]
  },
  {
   "cell_type": "code",
   "execution_count": 8,
   "id": "5f198188-3916-4661-a91c-8e580fa1528a",
   "metadata": {},
   "outputs": [],
   "source": [
    "v_sub_100_off_tf[\"Magnitude\"] = v_sub_100_off_tf[\"Magnitude\"] - v_sub_100_off_offset\n",
    "v_sub_100_on_tf[\"Magnitude\"] = v_sub_100_on_tf[\"Magnitude\"] - v_sub_100_on_offset"
   ]
  },
  {
   "cell_type": "code",
   "execution_count": 9,
   "id": "15ea7786-83de-45a9-ab53-b38834c07035",
   "metadata": {},
   "outputs": [],
   "source": [
    "v_sub_100_off_tf.to_csv(path_or_buf=\"C:\\Sound\\Measure\\d&b-V7P\\V-SUB-100Hz-OFF.csv\", header=False, index=False, encoding=\"utf-8\")\n",
    "v_sub_100_on_tf.to_csv(path_or_buf=\"C:\\Sound\\Measure\\d&b-V7P\\V-SUB-100Hz-ON.csv\", header=False, index=False, encoding=\"utf-8\")"
   ]
  },
  {
   "cell_type": "code",
   "execution_count": null,
   "id": "f8902d86-b9a5-4c75-96e1-efcd499dced8",
   "metadata": {},
   "outputs": [],
   "source": []
  }
 ],
 "metadata": {
  "kernelspec": {
   "display_name": "Python 3 (ipykernel)",
   "language": "python",
   "name": "python3"
  },
  "language_info": {
   "codemirror_mode": {
    "name": "ipython",
    "version": 3
   },
   "file_extension": ".py",
   "mimetype": "text/x-python",
   "name": "python",
   "nbconvert_exporter": "python",
   "pygments_lexer": "ipython3",
   "version": "3.10.4"
  }
 },
 "nbformat": 4,
 "nbformat_minor": 5
}
