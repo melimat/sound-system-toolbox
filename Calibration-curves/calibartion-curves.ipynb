{
 "cells": [
  {
   "cell_type": "markdown",
   "id": "c704752c-3419-4738-a1e8-afde3eea6da1",
   "metadata": {},
   "source": [
    "# Calibration curves toolbox #"
   ]
  },
  {
   "cell_type": "markdown",
   "id": "ff230c6a-1a93-414e-b758-1215b80ce9b5",
   "metadata": {},
   "source": [
    "## Import potřebných knihoven"
   ]
  },
  {
   "cell_type": "code",
   "execution_count": 1,
   "id": "c7f34e60-e33d-4a1a-980b-2663e0e514fe",
   "metadata": {},
   "outputs": [],
   "source": [
    "import pandas as pd\n",
    "import plotly.express as px\n",
    "import plotly.graph_objects as go"
   ]
  },
  {
   "cell_type": "markdown",
   "id": "617e7f5d-502e-459f-82b8-6e6d92f2571c",
   "metadata": {
    "tags": []
   },
   "source": [
    "## Import naměřených dat z OpenSoundMeteru"
   ]
  },
  {
   "cell_type": "markdown",
   "id": "d9fbdf0f-a235-4c74-91e6-dd15e652564d",
   "metadata": {},
   "source": [
    "Vstupní parametry:\n",
    "* `path` - cesta k CSV spuboru vyexportovaného z OSM\n",
    "\n",
    "Návratové hodnoty:\n",
    "* Pandas `DataFrame` - naimportovaná data :\n",
    "    * frekvenční charakteristika - pod atributem `Magnitude`\n",
    "    * fázová odezva - pod atributem `Phase`\n",
    "    * koherence měření - pod atributem `Coherence`"
   ]
  },
  {
   "cell_type": "code",
   "execution_count": 2,
   "id": "0ad8c803-985b-4b34-a429-1c68759efdb6",
   "metadata": {},
   "outputs": [],
   "source": [
    "def import_data_from_osm( path : str ) -> pd.DataFrame:\n",
    "    return pd.read_csv( path, names=[\"Freq\", \"Magnitude\", \"Phase\", \"Coherence\"] )"
   ]
  },
  {
   "cell_type": "markdown",
   "id": "c66f49c3-6300-4b81-9b8d-e095e6af9792",
   "metadata": {},
   "source": [
    "## Ořez naměřených dat do rozsahu slyšitelné části spektra"
   ]
  },
  {
   "cell_type": "markdown",
   "id": "4d5dbf2f-b3f3-4ce7-ba0f-199528d31075",
   "metadata": {},
   "source": [
    "Vstupní parametry:\n",
    "* `source_df` - Pandas `DataFrane` s naměřenými daty se strukturou popsanou [výše](#Import-naměřených-dat-z-OpenSoundMeteru)\n",
    "\n",
    "Návratové hodnoty:\n",
    "* Pandas `DataFrame` - `DataFrame` se stejnou strukturou (viz [výše](#Import-naměřených-dat-z-OpenSoundMeteru)) - ve spektru zůžen na interval $20 Hz$ až $20 kHz$"
   ]
  },
  {
   "cell_type": "code",
   "execution_count": 3,
   "id": "c9d28401-5ef1-4e32-b013-29d42ea38f35",
   "metadata": {},
   "outputs": [],
   "source": [
    "def cut_to_audible_spectrum( source_df : pd.DataFrame ) -> pd.DataFrame:\n",
    "    cut_df = source_df.drop(source_df.loc[(source_df[\"Freq\"] < 20) | (source_df[\"Freq\"] > 20000)].index)\n",
    "    return cut_df"
   ]
  },
  {
   "cell_type": "markdown",
   "id": "b837c6b2-b64b-42eb-9db5-74827dcb6bd0",
   "metadata": {
    "tags": []
   },
   "source": [
    "## Generování rozsahů pro 1/n oktávový smoothing"
   ]
  },
  {
   "cell_type": "markdown",
   "id": "a6e0ff65-3530-40da-a2da-54789f6b2c93",
   "metadata": {},
   "source": [
    "Pokud pro export dat nepoužijeme Smaart a možnost exportu dat s 1/n oktávovým smoothingem, či OSM s FFT nastaveném v módu `LTW` (Logarithmic time window), pak se o průměrování musíme postarat sami.\n",
    "\n",
    "Pro tuto potřebu musíme být schopni vygenerovat intervaly frekvencí jednotlivých \"oktáv\" pro na kterých budeme průměrovat.\n",
    "\n",
    "Vstupní parametry:\n",
    "* `noct` - pokud chceme 1/n oktávové průměrování (smoothing), tak tento parametr je právě ono `n` (tedy například pro 1/3-oktávové průměrování je `noct` = 3)\n",
    "\n",
    "Návratová hodnota:\n",
    "* Slovník (`Dictionary`) kde klíčem je vždy centrální frekvece dané oktávy a hodnotu k takovéme klíči je pak slovník s dvěma položkami:\n",
    "    * `lo` - dolní ohraničující frekvence oktávy\n",
    "    * `hi` - horní ohraničující frekvence oktávy"
   ]
  },
  {
   "cell_type": "code",
   "execution_count": 6,
   "id": "b308482f-f007-4af7-a1d1-e645364ce642",
   "metadata": {},
   "outputs": [],
   "source": [
    "def generate_bin_data( noct : int ) -> dict:\n",
    "    freq_dict = {}\n",
    "\n",
    "    reference_freq = 1000\n",
    "    lower_threshold = 20\n",
    "    upper_threshold = 20000\n",
    "\n",
    "    #Lower freqs:\n",
    "    #print(\"Lower\")\n",
    "    freq = reference_freq\n",
    "    lo = lower_threshold\n",
    "    while ( lo >= lower_threshold):\n",
    "        central_freq = freq\n",
    "        lo = central_freq / 2**(1/(noct * 2))\n",
    "        hi = central_freq * 2**(1/(noct * 2))\n",
    "        #print(\"F: {0}, LO: {1}, HI: {2}\".format(central_freq, lo, hi))\n",
    "        freq = math.trunc(freq / 2**(1/noct))\n",
    "        freq_dict[central_freq] = {}\n",
    "        freq_dict[central_freq][\"lo\"] = lo\n",
    "        freq_dict[central_freq][\"hi\"] = hi\n",
    "    \n",
    "    #Higher freqs\n",
    "    #print(\"Higher\")\n",
    "    freq = math.trunc(reference_freq * 2**(1/noct))\n",
    "    hi = upper_threshold\n",
    "    while (hi <= upper_threshold):\n",
    "        central_freq = freq\n",
    "        lo = central_freq / 2**(1/(noct * 2))\n",
    "        hi = central_freq * 2**(1/(noct * 2))\n",
    "        #print(\"F: {0}, LO: {1}, HI: {2}\".format(central_freq, lo, hi))\n",
    "        freq = math.trunc(freq * 2**(1/noct), )\n",
    "        freq_dict[central_freq] = {}\n",
    "        freq_dict[central_freq][\"lo\"] = lo\n",
    "        freq_dict[central_freq][\"hi\"] = hi\n",
    "\n",
    "    return freq_dict"
   ]
  },
  {
   "cell_type": "markdown",
   "id": "31823574-38ab-44ab-9283-c5ae5e976fc6",
   "metadata": {},
   "source": [
    "## Smoothing (průměrování)"
   ]
  },
  {
   "cell_type": "markdown",
   "id": "5e605db1-a560-459d-9ce8-c547c626520c",
   "metadata": {},
   "source": [
    "Tato funkce provede samotné průměrování dat.\n",
    "\n",
    "Vstupní parametry:\n",
    "* `source_data` - `DatFrame`se strukturou popsanou v [výše](#Import-naměřených-dat-z-OpenSoundMeteru)\n",
    "* `bands` - slovník (mapa) s průměrovacími intervaly (viz [výše](#Generování-rozsahů-pro-1/n-oktávový-smoothing))\n",
    "\n",
    "Návratové hodnoty:\n",
    "* `DataFrame` obsahující zprůměrovaná data frekvenční charakteristiky\n",
    "\n",
    "Průměr se zde počítá jako aritmetický, tedy pro n bodů $m_1, m_2, \\dots, m_n$ v dané oktávě:\n",
    "$$\n",
    "    \\frac{\\sum_{i = 1}^{n} m_i}{n}\n",
    "$$\n",
    "\n",
    "Do budoucna by si tato funkce zasloužila vylepšení o možnsot volby typu průměrování"
   ]
  },
  {
   "cell_type": "code",
   "execution_count": 7,
   "id": "84da4267-f5de-4250-9aa9-14834793c878",
   "metadata": {},
   "outputs": [],
   "source": [
    "def generate_oct_view( source_data : pd.DataFrame, bands : dict ) -> pd.DataFrame:\n",
    "    value_dict = {}\n",
    "\n",
    "    for key in bands.keys():\n",
    "        lo = bands[key][\"lo\"]\n",
    "        hi = bands[key][\"hi\"]\n",
    "\n",
    "        values_df = source_data.loc[(source_data[\"Freq\"] >= lo) & (source_data[\"Freq\"] <= hi)]\n",
    "        if (values_df.empty):\n",
    "            avg = 0\n",
    "        else:\n",
    "            avg = values_df[\"Magnitude\"].sum() / len(values_df[\"Magnitude\"].index)\n",
    "        \n",
    "        #print(avg)\n",
    "\n",
    "        value_dict[key] = avg\n",
    "        \n",
    "    return_df = pd.DataFrame.from_dict(value_dict, orient=\"index\", columns=[\"Magnitude\"])\n",
    "    return_df.sort_index(inplace=True)\n",
    "\n",
    "    return return_df"
   ]
  },
  {
   "cell_type": "markdown",
   "id": "bdcb0b26-e480-49c1-921c-fbfdf26d01bf",
   "metadata": {},
   "source": [
    "## Dvoupásmová kalibrace"
   ]
  },
  {
   "cell_type": "markdown",
   "id": "d9ff4e1b-a311-4843-9c30-85e7765ddb39",
   "metadata": {},
   "source": [
    "Pokud kalibrujeme dvoupásmově, tedy zvlášť s basovkou a zvlášť pro středy a výšky, hodí se možnost zkombinovat zprůměrované křivky.\n",
    "\n",
    "Vstupní parametry:\n",
    "* `lo_trace` - kalibrační křivka pro spodní část spektra (`DataFrame` - již zprůměrovaná dle [předchozího bodu](#Smoothing-(průměrování)))\n",
    "* `hi_trace` - kalibrační křivka pro horní část spektra (`DataFrame` - již zprůměrovaná dle [předchozího bodu](#Smoothing-(průměrování))))\n",
    "* `join_freq` - frekvence (oktáva), na které se kalibrační křivky mají napojit\n",
    "\n",
    "Návratové hodnoty:\n",
    "* `DataFrame` obsahující spojenou kalibrační křivku (index je frekvence, atribut `Magnitude` pak obsahuje samotné hodnoty frekvenční charakteristiky"
   ]
  },
  {
   "cell_type": "code",
   "execution_count": 8,
   "id": "2962cc19-fbd0-4092-9706-2b1d2c8eaf68",
   "metadata": {},
   "outputs": [],
   "source": [
    "def combine_lo_hi_traces( lo_trace : pd.DataFrame, hi_trace : pd.DataFrame, join_freq : float ) -> pd.DataFrame:\n",
    "    lo_trace_join_val = lo_trace.loc[lo_trace.index == join_freq].values[0]\n",
    "    hi_trace_join_val = hi_trace.loc[hi_trace.index == join_freq].values[0]\n",
    "\n",
    "    diff = hi_trace_join_val - lo_trace_join_val\n",
    "\n",
    "    lo_trace_cut = lo_trace.loc[lo_trace.index < join_freq]\n",
    "\n",
    "    for each_index in lo_trace_cut.index.values:\n",
    "        prev_val = lo_trace.loc[lo_trace.index == each_index].values[0]\n",
    "        new_val = prev_val + diff\n",
    "        hi_trace.loc[hi_trace.index == each_index] = new_val\n",
    "    \n",
    "    return hi_trace"
   ]
  },
  {
   "cell_type": "markdown",
   "id": "6edcf7f4-dbf8-4209-8685-12205257a7f6",
   "metadata": {},
   "source": [
    "## Normalizace křivky"
   ]
  },
  {
   "cell_type": "markdown",
   "id": "a4efaafd-df89-47ff-b674-10de91dfb776",
   "metadata": {},
   "source": [
    "Tato funkce křivku znormalizuje - tedy posune ji tak, že na 1kHz bude 0 (0dB)\n",
    "\n",
    "Vstupní parametry:\n",
    "* `curve` - `DataFrame` obsahující již zprůměrovanou a případně sloučenou kalibrační křivku\n",
    "\n",
    "Výstup:\n",
    "* `DataFrame` obsahující finální kalibrační křivku"
   ]
  },
  {
   "cell_type": "code",
   "execution_count": 9,
   "id": "0bb9f0de-3b08-4a64-a4d5-43449b034cb6",
   "metadata": {},
   "outputs": [],
   "source": [
    "def normalize_curve( curve : pd.DataFrame ) -> pd.DataFrame:\n",
    "    one_k_val = curve.loc[curve.index == 1000].values[0]\n",
    "    curve[\"Magnitude\"] -=one_k_val\n",
    "    return curve"
   ]
  },
  {
   "cell_type": "markdown",
   "id": "46de43f1-53ce-4b78-841a-8a86e841c947",
   "metadata": {},
   "source": [
    "## Export křivky"
   ]
  },
  {
   "cell_type": "markdown",
   "id": "f1976476-cb3e-48e6-a975-7b4c74cfbdb8",
   "metadata": {},
   "source": [
    "Funkce sloužící pro export hotové křivk do textového souboru\n",
    "\n",
    "Vstupní parametry:\n",
    "* `curve` -`DataFrame` obsahující hotovou křivku\n",
    "* `path` - cesta k výstupnímu souboru (soubor bude vytvořen)"
   ]
  },
  {
   "cell_type": "code",
   "execution_count": 10,
   "id": "dc806b5e-e229-46eb-990c-d2a17ac5fc1e",
   "metadata": {},
   "outputs": [],
   "source": [
    "def export_curve( curve : pd.DataFrame, path : str ) -> None:\n",
    "    curve[\"Magnitude\"] = curve[\"Magnitude\"].round(decimals=2)\n",
    "    curve.to_csv(path, header=False, sep=\"\\t\")"
   ]
  }
 ],
 "metadata": {
  "kernelspec": {
   "display_name": "Python 3 (ipykernel)",
   "language": "python",
   "name": "python3"
  },
  "language_info": {
   "codemirror_mode": {
    "name": "ipython",
    "version": 3
   },
   "file_extension": ".py",
   "mimetype": "text/x-python",
   "name": "python",
   "nbconvert_exporter": "python",
   "pygments_lexer": "ipython3",
   "version": "3.10.4"
  },
  "toc-autonumbering": false,
  "toc-showmarkdowntxt": false,
  "toc-showtags": false
 },
 "nbformat": 4,
 "nbformat_minor": 5
}
