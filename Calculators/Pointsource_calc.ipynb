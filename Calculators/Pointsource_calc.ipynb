{
 "cells": [
  {
   "cell_type": "code",
   "execution_count": 1,
   "id": "602544b4-9c15-42e7-87a8-adc195c6926b",
   "metadata": {},
   "outputs": [],
   "source": [
    "import math\n",
    "import pandas as pd\n",
    "\n",
    "from ipywidgets import widgets"
   ]
  },
  {
   "cell_type": "markdown",
   "id": "ccb5d7f1-901d-40fb-a545-258b57b95df5",
   "metadata": {
    "tags": []
   },
   "source": [
    "# Pointsource calc"
   ]
  },
  {
   "cell_type": "markdown",
   "id": "16fc627b-625a-4a54-b244-6a91707e6635",
   "metadata": {},
   "source": [
    "## Vstupní parametry\n",
    "\n",
    "* Výška pointsource (m) - `pointsource_height`\n",
    "* Downtilt úhel (°) - `downtilt_angle`\n",
    "* Vertikální vyzařovací úhel (°) - `vertical_dispersion_angle`\n",
    "* Výška posluchače (m) - `listeners_height`"
   ]
  },
  {
   "cell_type": "code",
   "execution_count": 2,
   "id": "4b2ddc6a-b1b6-454d-a292-b354cb4fe4e4",
   "metadata": {},
   "outputs": [],
   "source": [
    "pointsource_height = 3 #m\n",
    "downtilt_angle = 5 #deg\n",
    "vertical_dispersion_angle = 60 #deg - ETX-12P\n",
    "listeners_height = 1.7 #m"
   ]
  },
  {
   "cell_type": "markdown",
   "id": "b4ff75e4-b069-45ed-8ca9-08fe5ac638c4",
   "metadata": {
    "jp-MarkdownHeadingCollapsed": true,
    "tags": []
   },
   "source": [
    "## Implementace"
   ]
  },
  {
   "cell_type": "code",
   "execution_count": 3,
   "id": "e795559c-7413-4c38-8fee-22a8845114d4",
   "metadata": {},
   "outputs": [],
   "source": [
    "def convert_deg_to_rad( deg : float ) -> float:\n",
    "    angle = deg\n",
    "    if ( deg >= 90 ):\n",
    "        angle_above = angle - 90\n",
    "        angle = 90 - angle_above\n",
    "        \n",
    "    \n",
    "    value = ( ( ( angle % 90 )   / 360 ) * 2 * math.pi )\n",
    "    return value\n",
    "\n",
    "def calculate_onax_point( listeners : bool, pointsource_height : float, downtilt_angle : float, listeners_height : float ) -> float:\n",
    "    offset = 0.0\n",
    "    if ( listeners == True ):\n",
    "        offset = listeners_height\n",
    "    else:\n",
    "        offset = 0\n",
    "    \n",
    "    distance_to_onax_point = ( pointsource_height - offset ) / math.tan( convert_deg_to_rad( downtilt_angle ) )\n",
    "    \n",
    "    return distance_to_onax_point\n",
    "\n",
    "def calculate_ofax_near_point( listeners : bool, pointsource_height : float, downtilt_angle : float, vertical_dispersion_angle : float, listeners_height : float ) -> float:\n",
    "    offset = 0.0\n",
    "    if ( listeners == True ):\n",
    "        offset = listeners_height\n",
    "    else:\n",
    "        offset = 0\n",
    "    \n",
    "    angle =  180 - ( ( vertical_dispersion_angle / 2 ) + downtilt_angle )\n",
    "    distance_to_ofax_near_point = ( pointsource_height - offset ) / math.tan( convert_deg_to_rad( angle ) ) \n",
    "    \n",
    "    return distance_to_ofax_near_point\n",
    "\n",
    "def calculate_ofax_far_point( listeners : bool, pointsource_height : float, downtilt_angle : float, vertical_dispersion_angle : float, listeners_height : float ) -> float:\n",
    "    offset = 0.0\n",
    "    if ( listeners == True ):\n",
    "        offset = listeners_height\n",
    "    else:\n",
    "        offset = 0\n",
    "    \n",
    "    distance_to_ofax_near_point = ( pointsource_height - offset ) / math.tan( convert_deg_to_rad( downtilt_angle - vertical_dispersion_angle / 2 ) )\n",
    "    \n",
    "    return distance_to_ofax_near_point"
   ]
  },
  {
   "cell_type": "code",
   "execution_count": 4,
   "id": "c477d5a1-e9f5-4923-8d16-b05a21a95ede",
   "metadata": {},
   "outputs": [],
   "source": [
    "onax_gnd_point = calculate_onax_point(\n",
    "    listeners=False,\n",
    "    pointsource_height=pointsource_height,\n",
    "    downtilt_angle=downtilt_angle,\n",
    "    listeners_height=listeners_height\n",
    ")\n",
    "onax_listeners_point = calculate_onax_point(\n",
    "    listeners=True,\n",
    "    pointsource_height=pointsource_height,\n",
    "    downtilt_angle=downtilt_angle,\n",
    "    listeners_height=listeners_height\n",
    ")"
   ]
  },
  {
   "cell_type": "code",
   "execution_count": 5,
   "id": "bd4a672b-eccd-4cbe-a4cd-52ec365f3b60",
   "metadata": {},
   "outputs": [],
   "source": [
    "ofax_near_gnd_point = calculate_ofax_near_point(\n",
    "    listeners=False,\n",
    "    pointsource_height=pointsource_height,\n",
    "    downtilt_angle=downtilt_angle,\n",
    "    vertical_dispersion_angle=vertical_dispersion_angle,\n",
    "    listeners_height=listeners_height\n",
    ")\n",
    "\n",
    "ofax_near_listeners_point = calculate_ofax_near_point(\n",
    "    listeners=True,\n",
    "    pointsource_height=pointsource_height,\n",
    "    downtilt_angle=downtilt_angle,\n",
    "    vertical_dispersion_angle=vertical_dispersion_angle,\n",
    "    listeners_height=listeners_height\n",
    ")"
   ]
  },
  {
   "cell_type": "code",
   "execution_count": 6,
   "id": "ce83c748-295a-49e1-b3cf-35e7f4d03999",
   "metadata": {},
   "outputs": [],
   "source": [
    "ofax_far_gnd_point = calculate_ofax_far_point(\n",
    "    listeners=False,\n",
    "    pointsource_height=pointsource_height,\n",
    "    downtilt_angle=downtilt_angle,\n",
    "    vertical_dispersion_angle=vertical_dispersion_angle,\n",
    "    listeners_height=listeners_height\n",
    ")\n",
    "\n",
    "ofax_far_listeners_point = calculate_ofax_far_point(\n",
    "    listeners=True,\n",
    "    pointsource_height=pointsource_height,\n",
    "    downtilt_angle=downtilt_angle,\n",
    "    vertical_dispersion_angle=vertical_dispersion_angle,\n",
    "    listeners_height=listeners_height\n",
    ")"
   ]
  },
  {
   "cell_type": "markdown",
   "id": "32eac179-7df3-423a-9d07-27c65fede79f",
   "metadata": {
    "jp-MarkdownHeadingCollapsed": true,
    "tags": []
   },
   "source": [
    "## Porovnání více situací"
   ]
  },
  {
   "cell_type": "code",
   "execution_count": 7,
   "id": "b7b9ee2d-531e-489d-aa24-97d38de1cb60",
   "metadata": {},
   "outputs": [],
   "source": [
    "downtilt_angle_list = [0.0,5.0, 15.0, 33.0]\n",
    "\n",
    "downtilt_angle_dict = dict()\n",
    "\n",
    "def calculate_characteristics( pointsource_height : float, downtilt_angle : float, vertical_dispersion_angle : float, listeners_height : float ) -> dict:\n",
    "    return_dict = dict()\n",
    "    \n",
    "    ofax_near_listeners_point = calculate_ofax_near_point(\n",
    "        listeners=True,\n",
    "        pointsource_height=pointsource_height,\n",
    "        downtilt_angle=downtilt_angle,\n",
    "        vertical_dispersion_angle=vertical_dispersion_angle,\n",
    "        listeners_height=listeners_height\n",
    "    )\n",
    "    \n",
    "    ofax_near_gnd_point = calculate_ofax_near_point(\n",
    "        listeners=False,\n",
    "        pointsource_height=pointsource_height,\n",
    "        downtilt_angle=downtilt_angle,\n",
    "        vertical_dispersion_angle=vertical_dispersion_angle,\n",
    "        listeners_height=listeners_height\n",
    "    )\n",
    "    \n",
    "    return_dict[\"OFAX near - Listeners [m]\"] = ofax_near_listeners_point\n",
    "    return_dict[\"OFAX near - Ground [m]\"] = ofax_near_gnd_point\n",
    "    \n",
    "    if ( downtilt_angle == 0 ):\n",
    "        return_dict[\"ONAX - Listeners [m]\"] = None\n",
    "        return_dict[\"ONAX - Ground [m]\"] = None\n",
    "        return_dict[\"OFAX far - Listeners [m]\"] = None\n",
    "        return_dict[\"OFAX far - Ground [m]\"] = None\n",
    "        return return_dict\n",
    "    \n",
    "    \n",
    "    onax_near_listeners_point = calculate_onax_point(\n",
    "        listeners=True,\n",
    "        pointsource_height=pointsource_height,\n",
    "        downtilt_angle=downtilt_angle,\n",
    "        listeners_height=listeners_height\n",
    "    )\n",
    "    \n",
    "    onax_near_gnd_point = calculate_onax_point(\n",
    "        listeners=False,\n",
    "        pointsource_height=pointsource_height,\n",
    "        downtilt_angle=downtilt_angle,\n",
    "        listeners_height=listeners_height\n",
    "    )\n",
    "    \n",
    "    return_dict[\"ONAX - Listeners [m]\"] = onax_near_listeners_point\n",
    "    return_dict[\"ONAX - Ground [m]\"] = onax_near_gnd_point\n",
    "    \n",
    "    if ( vertical_dispersion_angle / 2 >= downtilt_angle ):\n",
    "        return_dict[\"OFAX far - Listeners [m]\"] = None\n",
    "        return_dict[\"OFAX far - Ground [m]\"] = None\n",
    "        return return_dict\n",
    "    \n",
    "    ofax_far_listeners_point = calculate_ofax_far_point(\n",
    "        listeners=True,\n",
    "        pointsource_height=pointsource_height,\n",
    "        downtilt_angle=downtilt_angle,\n",
    "        vertical_dispersion_angle=vertical_dispersion_angle,\n",
    "        listeners_height=listeners_height\n",
    "    )\n",
    "    \n",
    "    ofax_far_gnd_point = calculate_ofax_far_point(\n",
    "        listeners=False,\n",
    "        pointsource_height=pointsource_height,\n",
    "        downtilt_angle=downtilt_angle,\n",
    "        vertical_dispersion_angle=vertical_dispersion_angle,\n",
    "        listeners_height=listeners_height\n",
    "    )\n",
    "    \n",
    "    return_dict[\"OFAX far - Listeners [m]\"] = ofax_far_listeners_point\n",
    "    return_dict[\"OFAX far - Ground [m]\"] = ofax_far_gnd_point\n",
    "    \n",
    "    return return_dict\n",
    "\n",
    "angle_dict = dict()\n",
    "\n",
    "for angle in downtilt_angle_list:\n",
    "    angle_dict[angle] = calculate_characteristics(\n",
    "        pointsource_height=pointsource_height,\n",
    "        downtilt_angle=angle,\n",
    "        vertical_dispersion_angle=vertical_dispersion_angle,\n",
    "        listeners_height=listeners_height\n",
    "    )"
   ]
  },
  {
   "cell_type": "code",
   "execution_count": 8,
   "id": "9c37c822-ebf6-44a0-81e8-9c9266f89b06",
   "metadata": {},
   "outputs": [],
   "source": [
    "angle_df = pd.DataFrame.from_dict(angle_dict)"
   ]
  },
  {
   "cell_type": "code",
   "execution_count": 9,
   "id": "0bbf0c3e-c016-470f-93ab-b4b776bb884c",
   "metadata": {},
   "outputs": [
    {
     "data": {
      "text/html": [
       "<div>\n",
       "<style scoped>\n",
       "    .dataframe tbody tr th:only-of-type {\n",
       "        vertical-align: middle;\n",
       "    }\n",
       "\n",
       "    .dataframe tbody tr th {\n",
       "        vertical-align: top;\n",
       "    }\n",
       "\n",
       "    .dataframe thead th {\n",
       "        text-align: right;\n",
       "    }\n",
       "</style>\n",
       "<table border=\"1\" class=\"dataframe\">\n",
       "  <thead>\n",
       "    <tr style=\"text-align: right;\">\n",
       "      <th></th>\n",
       "      <th>0.0</th>\n",
       "      <th>5.0</th>\n",
       "      <th>15.0</th>\n",
       "      <th>33.0</th>\n",
       "    </tr>\n",
       "  </thead>\n",
       "  <tbody>\n",
       "    <tr>\n",
       "      <th>OFAX near - Listeners [m]</th>\n",
       "      <td>2.251666</td>\n",
       "      <td>1.856592</td>\n",
       "      <td>1.300000</td>\n",
       "      <td>0.662383</td>\n",
       "    </tr>\n",
       "    <tr>\n",
       "      <th>OFAX near - Ground [m]</th>\n",
       "      <td>5.196152</td>\n",
       "      <td>4.284444</td>\n",
       "      <td>3.000000</td>\n",
       "      <td>1.528576</td>\n",
       "    </tr>\n",
       "    <tr>\n",
       "      <th>ONAX - Listeners [m]</th>\n",
       "      <td>NaN</td>\n",
       "      <td>14.859068</td>\n",
       "      <td>4.851666</td>\n",
       "      <td>2.001824</td>\n",
       "    </tr>\n",
       "    <tr>\n",
       "      <th>ONAX - Ground [m]</th>\n",
       "      <td>NaN</td>\n",
       "      <td>34.290157</td>\n",
       "      <td>11.196152</td>\n",
       "      <td>4.619595</td>\n",
       "    </tr>\n",
       "    <tr>\n",
       "      <th>OFAX far - Listeners [m]</th>\n",
       "      <td>NaN</td>\n",
       "      <td>NaN</td>\n",
       "      <td>NaN</td>\n",
       "      <td>24.805478</td>\n",
       "    </tr>\n",
       "    <tr>\n",
       "      <th>OFAX far - Ground [m]</th>\n",
       "      <td>NaN</td>\n",
       "      <td>NaN</td>\n",
       "      <td>NaN</td>\n",
       "      <td>57.243410</td>\n",
       "    </tr>\n",
       "  </tbody>\n",
       "</table>\n",
       "</div>"
      ],
      "text/plain": [
       "                               0.0        5.0        15.0       33.0\n",
       "OFAX near - Listeners [m]  2.251666   1.856592   1.300000   0.662383\n",
       "OFAX near - Ground [m]     5.196152   4.284444   3.000000   1.528576\n",
       "ONAX - Listeners [m]            NaN  14.859068   4.851666   2.001824\n",
       "ONAX - Ground [m]               NaN  34.290157  11.196152   4.619595\n",
       "OFAX far - Listeners [m]        NaN        NaN        NaN  24.805478\n",
       "OFAX far - Ground [m]           NaN        NaN        NaN  57.243410"
      ]
     },
     "execution_count": 9,
     "metadata": {},
     "output_type": "execute_result"
    }
   ],
   "source": [
    "angle_df"
   ]
  },
  {
   "cell_type": "markdown",
   "id": "8080ac50-3b87-4e98-a3fb-0425b27f72fb",
   "metadata": {
    "tags": []
   },
   "source": [
    "## Interaktivní verze"
   ]
  },
  {
   "cell_type": "markdown",
   "id": "61ae1960-22e7-44d3-960d-316eadd12796",
   "metadata": {
    "jp-MarkdownHeadingCollapsed": true,
    "tags": []
   },
   "source": [
    "### ONAX aiming calculator"
   ]
  },
  {
   "cell_type": "code",
   "execution_count": 28,
   "id": "cb313bc3-6f3c-4c14-a4e8-dcd765a00d72",
   "metadata": {},
   "outputs": [],
   "source": [
    "pointsource_height_input = widgets.FloatText( valuw=0.0, description=\"PS height:\", disabled=False )\n",
    "listeners_height_input = widgets.FloatText( value=1.7, description=\"Listen height:\", disabled=False )\n",
    "dispersion_angle_input = widgets.FloatText( value=0.0, description=\"Dispersion angle\", disabled=False )\n",
    "calculate_downtilt_checkbox = widgets.Checkbox( value=False, description=\"Calc aim\", disabled=False )\n",
    "downtilt_angle_input = widgets.FloatText( value=0.0, description=\"Downtilt angle\", disabled=False )\n",
    "onax_aiming_point_input = widgets.FloatText( value=0.0, description=\"Aiming dist\", disabled=True )\n",
    "calculate_button = widgets.Button( description=\"Calculate\", disabled=False )\n",
    "output_widget = widgets.Output()\n",
    "\n",
    "def check_uncheck( change ):\n",
    "    if ( calculate_downtilt_checkbox.value == True ):\n",
    "        onax_aiming_point_input.disabled = False\n",
    "        downtilt_angle_input.disabled = True\n",
    "    else:\n",
    "        onax_aiming_point_input.disabled = True\n",
    "        downtilt_angle_input.disabled = False\n",
    "\n",
    "calculate_downtilt_checkbox.observe( check_uncheck )\n",
    "\n",
    "settings_v_box = widgets.VBox([pointsource_height_input, listeners_height_input, dispersion_angle_input, calculate_downtilt_checkbox, downtilt_angle_input, onax_aiming_point_input, calculate_button, output_widget])"
   ]
  },
  {
   "cell_type": "code",
   "execution_count": 31,
   "id": "0018d46b-d972-42c5-b164-6982882ef4df",
   "metadata": {},
   "outputs": [],
   "source": [
    "def convert_rads_to_deg( rads : float ) -> float:\n",
    "     return ( ( rads / ( math.pi / 2 ) ) * 90 )\n",
    "\n",
    "def calculate_onax_aiming_angle( pointsource_height : float, listeners_height : float, onax_aiming_point : float, vertical_dispersion_angle : float ) -> float:\n",
    "    angle_in_rads = math.atan( ( pointsource_height - listeners_height ) / onax_aiming_point )\n",
    "    angle_in_deg = convert_rads_to_deg(angle_in_rads)\n",
    "    return angle_in_deg\n",
    "\n",
    "def calculate_aiming( change ):\n",
    "    ps_height = float(pointsource_height_input.value)\n",
    "    l_height = float(listeners_height_input.value)\n",
    "    dispersion_angle = float(dispersion_angle_input.value)\n",
    "    down_angle = float(downtilt_angle_input.value)\n",
    "    aim_dist = float(onax_aiming_point_input.value)\n",
    "    \n",
    "    if ( calculate_downtilt_checkbox.value == True ):\n",
    "        down_angle = calculate_onax_aiming_angle(\n",
    "            pointsource_height=ps_height,\n",
    "            listeners_height=l_height,\n",
    "            onax_aiming_point=aim_dist,\n",
    "            vertical_dispersion_angle=dispersion_angle\n",
    "        )\n",
    "        downtilt_angle_input.value = down_angle\n",
    "    \n",
    "    characteristics = calculate_characteristics(\n",
    "        pointsource_height=ps_height,\n",
    "        listeners_height=l_height,\n",
    "        vertical_dispersion_angle=dispersion_angle,\n",
    "        downtilt_angle=down_angle,\n",
    "    )\n",
    "    \n",
    "    onax_aiming_point_input.value = characteristics[\"ONAX - Listeners [m]\"]\n",
    "    \n",
    "    char_df = pd.DataFrame.from_dict(characteristics, orient=\"index\")\n",
    "    with( output_widget ):\n",
    "        display(char_df, clear=True)\n",
    "\n",
    "calculate_button.on_click( calculate_aiming )"
   ]
  },
  {
   "cell_type": "markdown",
   "id": "a2dce16a-7975-4dc0-9cdd-44813adc06a6",
   "metadata": {},
   "source": [
    "### GUI"
   ]
  },
  {
   "cell_type": "code",
   "execution_count": 30,
   "id": "ec835806-d29f-443c-9f79-3f71558c903f",
   "metadata": {},
   "outputs": [
    {
     "data": {
      "application/vnd.jupyter.widget-view+json": {
       "model_id": "220231b04e914f9ca6a679ad975b94ab",
       "version_major": 2,
       "version_minor": 0
      },
      "text/plain": [
       "VBox(children=(FloatText(value=0.0, description='PS height:'), FloatText(value=1.7, description='Listen height…"
      ]
     },
     "metadata": {},
     "output_type": "display_data"
    }
   ],
   "source": [
    "settings_v_box"
   ]
  }
 ],
 "metadata": {
  "kernelspec": {
   "display_name": "Python 3 (ipykernel)",
   "language": "python",
   "name": "python3"
  },
  "language_info": {
   "codemirror_mode": {
    "name": "ipython",
    "version": 3
   },
   "file_extension": ".py",
   "mimetype": "text/x-python",
   "name": "python",
   "nbconvert_exporter": "python",
   "pygments_lexer": "ipython3",
   "version": "3.10.4"
  }
 },
 "nbformat": 4,
 "nbformat_minor": 5
}
