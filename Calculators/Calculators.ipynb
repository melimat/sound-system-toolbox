{
 "cells": [
  {
   "cell_type": "code",
   "execution_count": 1,
   "id": "ba31843d-8a01-4fb0-bfbc-0d26e06b212a",
   "metadata": {},
   "outputs": [],
   "source": [
    "import math"
   ]
  },
  {
   "cell_type": "markdown",
   "id": "516130df-9e21-4b86-970c-9702a6af2938",
   "metadata": {
    "tags": []
   },
   "source": [
    "## Rychlost zvuku ve vzduchu v závislosti na teplotě"
   ]
  },
  {
   "cell_type": "markdown",
   "id": "aab50359-9ec5-4de8-9a3b-e2942c1b92dd",
   "metadata": {},
   "source": [
    "Jednoduchá funkce pro výpočet rychlosti zvuku v závislosti na teplotě ve °C\n",
    "\n",
    "Dle vztahu:\n",
    "$$\n",
    "v(T) = 331.57 + 0.607 \\cdot T\n",
    "$$\n",
    "Kde $\\{T\\}=°C$"
   ]
  },
  {
   "cell_type": "code",
   "execution_count": 2,
   "id": "a4dd3590-ae0a-42ca-8d54-2d81ed03da01",
   "metadata": {},
   "outputs": [],
   "source": [
    "def sound_wave_velocity( temperature : float ) -> float:\n",
    "    return float(331.57 + 0.607 * temperature)"
   ]
  },
  {
   "cell_type": "markdown",
   "id": "ef4a66d4-eeda-451d-8292-f72b7c0e4b37",
   "metadata": {
    "tags": []
   },
   "source": [
    "## Vlnová dělka"
   ]
  },
  {
   "cell_type": "markdown",
   "id": "e13c6fd4-eece-4285-a2fa-756254cc9afd",
   "metadata": {},
   "source": [
    "Výpočet vlnové délky v závislosti na frekvenci vlnění a jeho rychlosti.\n",
    "\n",
    "Dle vztahu:\n",
    "$$\n",
    "\\lambda(v,f) = \\frac{v}{f} \n",
    "$$\n",
    "\n",
    "Vstupní parametry:\n",
    "* `freq` - frekvence\n",
    "* `velocity` - rychlost"
   ]
  },
  {
   "cell_type": "code",
   "execution_count": 3,
   "id": "ae3a2171-01be-43de-b9ab-89218f1a0900",
   "metadata": {},
   "outputs": [],
   "source": [
    "def sound_wavelength( freq : float, velocity : float ) -> float:\n",
    "    return float( velocity / freq )"
   ]
  },
  {
   "cell_type": "markdown",
   "id": "c67ea032-f2f9-46ce-babc-cb4c1a44dec7",
   "metadata": {},
   "source": [
    "## Endfire/inline gradient spacing"
   ]
  },
  {
   "cell_type": "code",
   "execution_count": 4,
   "id": "f2c9246d-44d2-4a1b-a432-dd3f18e92708",
   "metadata": {},
   "outputs": [],
   "source": [
    "def sub_spacing( freq : float, temperature : float ) -> float:\n",
    "    velocity = sound_wave_velocity(temperature)\n",
    "    wavelength = sound_wavelength(freq, velocity)\n",
    "    return float(wavelength / 4)"
   ]
  },
  {
   "cell_type": "code",
   "execution_count": 24,
   "id": "dfb81d97-4d8c-47ac-83b2-3ccb54cd6690",
   "metadata": {},
   "outputs": [
    {
     "name": "stdout",
     "output_type": "stream",
     "text": [
      "1.4321249999999999\n"
     ]
    }
   ],
   "source": [
    "print(sub_spacing(60, 20))"
   ]
  },
  {
   "cell_type": "markdown",
   "id": "0c457f8d-e5ee-456c-9d91-41fa798fd7ce",
   "metadata": {},
   "source": [
    "## FAR"
   ]
  },
  {
   "cell_type": "markdown",
   "id": "4b117607-3473-404c-9797-7c4a4f6febe0",
   "metadata": {},
   "source": [
    "[https://www.sounddesignlive.com/one-simple-tool-find-right-size-speaker-space/](https://www.sounddesignlive.com/one-simple-tool-find-right-size-speaker-space/)"
   ]
  },
  {
   "cell_type": "code",
   "execution_count": 6,
   "id": "ad861e00-5d62-4339-a6c0-5abc1e8a3404",
   "metadata": {},
   "outputs": [],
   "source": [
    "def FAR_coefficient( depth : float, width : float ) -> float:\n",
    "    return float( depth / width )"
   ]
  },
  {
   "cell_type": "markdown",
   "id": "174bfe84-8dc5-4675-926a-9bc2ff3b5f7a",
   "metadata": {},
   "source": [
    "### Převod FAR na vyzařovací úhel"
   ]
  },
  {
   "cell_type": "code",
   "execution_count": 7,
   "id": "2ba5f27b-1b76-43cd-b1c3-b8f4cea90432",
   "metadata": {},
   "outputs": [],
   "source": [
    "def angle_from_FAR( far_coef : float ) -> float:\n",
    "    angle_in_rads = 2 * math.asin( 1 / far_coef )\n",
    "    return float( angle_in_rads * (360 / (2 * math.pi)))"
   ]
  },
  {
   "cell_type": "code",
   "execution_count": 26,
   "id": "ffb4bf44-58d4-47bd-8bd8-0caadb46fb9d",
   "metadata": {},
   "outputs": [
    {
     "name": "stdout",
     "output_type": "stream",
     "text": [
      "FAR: 1.3043478260869565 ; ANGLE: 100.11098962037022\n"
     ]
    }
   ],
   "source": [
    "depth = 30\n",
    "width = 23\n",
    "FAR = FAR_coefficient( depth=depth, width=width )\n",
    "angle = angle_from_FAR( FAR )\n",
    "\n",
    "print(\"FAR: {0} ; ANGLE: {1}\".format(FAR, angle))"
   ]
  },
  {
   "cell_type": "markdown",
   "id": "b2ea98e3-aa25-44ab-bd4e-99b0496082ea",
   "metadata": {
    "tags": []
   },
   "source": [
    "### Endfire coords"
   ]
  },
  {
   "cell_type": "markdown",
   "id": "ba1a1fe2-2242-4014-a567-a8f4da7ba603",
   "metadata": {},
   "source": [
    "#### Objekt reperezentující bodový zdroj (basovku)"
   ]
  },
  {
   "cell_type": "code",
   "execution_count": 9,
   "id": "b619608c-c20a-4100-afed-b194f3601405",
   "metadata": {},
   "outputs": [],
   "source": [
    "from dataclasses import dataclass"
   ]
  },
  {
   "cell_type": "code",
   "execution_count": 10,
   "id": "3a62fa35-62c1-4c3f-aec3-f57123ee01a4",
   "metadata": {},
   "outputs": [],
   "source": [
    "@dataclass\n",
    "class Pointsource:\n",
    "    x : float\n",
    "    y : float\n",
    "    z : float\n",
    "    heading_angle : float\n",
    "    inclination_angle : float\n",
    "    delay : float"
   ]
  },
  {
   "cell_type": "markdown",
   "id": "0b842e57-c579-46a0-ab63-70d0d0cfdbbf",
   "metadata": {},
   "source": [
    "#### Generování souřadnic pro endfire"
   ]
  },
  {
   "cell_type": "code",
   "execution_count": 11,
   "id": "2196ac85-851a-4b3f-9b79-951540957fe9",
   "metadata": {},
   "outputs": [],
   "source": [
    "def generate_endfire_coords( frequency : float, temperature : float, number_of_cabs : int, shift : float ) -> list:\n",
    "    cabinet_list = list()\n",
    "    \n",
    "    velocity = sound_wave_velocity( temperature )\n",
    "    spacing = sub_spacing( frequency, temperature )\n",
    "    \n",
    "    for cabinet_num in range( number_of_cabs ):\n",
    "        x_coord = shift + cabinet_num * spacing\n",
    "        delay = cabinet_num * ( spacing / velocity ) * 1000\n",
    "        \n",
    "        point_source = Pointsource(\n",
    "            x=x_coord,\n",
    "            y=0,\n",
    "            z=0,\n",
    "            heading_angle=0,\n",
    "            inclination_angle=0,\n",
    "            delay=delay\n",
    "        )\n",
    "        \n",
    "        cabinet_list.append( point_source )\n",
    "    \n",
    "    return cabinet_list"
   ]
  },
  {
   "cell_type": "code",
   "execution_count": 18,
   "id": "d52e9f6d-8892-4f33-9738-adc5912b937a",
   "metadata": {},
   "outputs": [],
   "source": [
    "cabinet_list = generate_endfire_coords(\n",
    "    frequency=50,\n",
    "    temperature=20,\n",
    "    number_of_cabs=4,\n",
    "    shift=1\n",
    ")"
   ]
  },
  {
   "cell_type": "code",
   "execution_count": 19,
   "id": "df9d5e5e-9c0b-4452-8f5a-312851556184",
   "metadata": {},
   "outputs": [],
   "source": [
    "def print_cabinets( cabinet_list : list ) -> None:\n",
    "    for index, cabinet in enumerate(cabinet_list):\n",
    "        print(\"Cabinet: {0} ; x={1} ; y={2} ; z={3} ; heading={4} ; delay={5}\".format(index + 1, cabinet.x, cabinet.y, cabinet.z, cabinet.heading_angle, cabinet.delay))"
   ]
  },
  {
   "cell_type": "code",
   "execution_count": 20,
   "id": "2a733d02-ff88-40da-bb9f-72ae5f8e79f1",
   "metadata": {},
   "outputs": [
    {
     "name": "stdout",
     "output_type": "stream",
     "text": [
      "Cabinet: 1 ; x=1.0 ; y=0 ; z=0 ; heading=0 ; delay=0.0\n",
      "Cabinet: 2 ; x=2.7185499999999996 ; y=0 ; z=0 ; heading=0 ; delay=5.0\n",
      "Cabinet: 3 ; x=4.437099999999999 ; y=0 ; z=0 ; heading=0 ; delay=10.0\n",
      "Cabinet: 4 ; x=6.15565 ; y=0 ; z=0 ; heading=0 ; delay=15.0\n"
     ]
    }
   ],
   "source": [
    "print_cabinets(cabinet_list)"
   ]
  },
  {
   "cell_type": "markdown",
   "id": "68c65229-fdec-4906-9ee0-661421f6c371",
   "metadata": {},
   "source": [
    "#### Rotace endfire"
   ]
  },
  {
   "cell_type": "markdown",
   "id": "77d53ccf-4ef7-4b73-8a4f-513838cc7cbb",
   "metadata": {},
   "source": [
    "$$ \\sin(\\varphi) = \\frac{y}{spacing} \\rightarrow y = \\sin(\\varphi) \\cdot spacing  \\\\ \\cos(\\varphi) = \\frac{x}{spacing} \\rightarrow x = \\cos(\\varphi) \\cdot spacing $$"
   ]
  },
  {
   "cell_type": "code",
   "execution_count": 21,
   "id": "64ce68c9-f2cd-4e37-8801-97f394c924c6",
   "metadata": {},
   "outputs": [],
   "source": [
    "def rotate_endfire( cabinet_list : list, angle : float ) -> list:\n",
    "    \n",
    "    angle_in_rads = ((2 * math.pi) / 360) * angle\n",
    "    print(angle_in_rads)\n",
    "    for cabinet in cabinet_list:\n",
    "        spacing = cabinet.x\n",
    "        cabinet.y = math.sin( angle_in_rads ) * spacing\n",
    "        cabinet.x = math.cos( angle_in_rads ) * spacing\n",
    "        cabinet.heading_angle = angle\n",
    "    \n",
    "    return cabinet_list"
   ]
  },
  {
   "cell_type": "code",
   "execution_count": 22,
   "id": "b9325ec1-8114-4c00-814c-6cdd3728d8ed",
   "metadata": {},
   "outputs": [
    {
     "name": "stdout",
     "output_type": "stream",
     "text": [
      "0.5235987755982988\n"
     ]
    }
   ],
   "source": [
    "rotated_cabinets = rotate_endfire(cabinet_list, 30)"
   ]
  },
  {
   "cell_type": "code",
   "execution_count": 23,
   "id": "1a954658-c57b-4564-81a5-c3a2e97c50bc",
   "metadata": {},
   "outputs": [
    {
     "name": "stdout",
     "output_type": "stream",
     "text": [
      "Cabinet: 1 ; x=0.8660254037844387 ; y=0.49999999999999994 ; z=0 ; heading=30 ; delay=0.0\n",
      "Cabinet: 2 ; x=2.3543333614581856 ; y=1.3592749999999996 ; z=0 ; heading=30 ; delay=5.0\n",
      "Cabinet: 3 ; x=3.8426413191319324 ; y=2.218549999999999 ; z=0 ; heading=30 ; delay=10.0\n",
      "Cabinet: 4 ; x=5.33094927680568 ; y=3.0778249999999994 ; z=0 ; heading=30 ; delay=15.0\n"
     ]
    }
   ],
   "source": [
    "print_cabinets(rotated_cabinets)"
   ]
  },
  {
   "cell_type": "markdown",
   "id": "f2bcf6b6-44c5-44db-8b5f-041b4f660a32",
   "metadata": {},
   "source": [
    "#### Vzdálenost 2 bodů"
   ]
  },
  {
   "cell_type": "markdown",
   "id": "ea2310e0-22a7-49c5-aabb-a1e17f47f58a",
   "metadata": {},
   "source": [
    "* Mějme 2 body:\n",
    "    * $X[x_1,x_2,x_3]$\n",
    "    * $Y[y_1,y_2,y_3]$\n",
    "* Vzdálenost těchto bodů $|XY|$:\n",
    "$$\n",
    "|XY| = \\sqrt{(y_1 - x_1)^2 + (y_2 - x_2)^2 + (y_3 - x_3)^2}\n",
    "$$"
   ]
  },
  {
   "cell_type": "code",
   "execution_count": 50,
   "id": "e7b9b30c-9a3a-446e-bfb3-692b8b722af4",
   "metadata": {},
   "outputs": [],
   "source": [
    "def distance_of_two_points( x1 : float, x2 : float, x3 : float, y1 : float, y2 : float, y3 : float ) -> float:\n",
    "    distance = math.sqrt((y1 - x1)**2 + (y2 - x2)**2 + (y3 - x3)**2)\n",
    "    return distance"
   ]
  },
  {
   "cell_type": "code",
   "execution_count": 51,
   "id": "1949a005-2e87-4f58-b3d8-548ae6ded3d6",
   "metadata": {},
   "outputs": [
    {
     "data": {
      "text/plain": [
       "2.8284271247461903"
      ]
     },
     "execution_count": 51,
     "metadata": {},
     "output_type": "execute_result"
    }
   ],
   "source": [
    "distance_of_two_points(2,2,0,0,0,0)"
   ]
  },
  {
   "cell_type": "markdown",
   "id": "d0a86eed-2857-40ff-b690-793f1c42352e",
   "metadata": {},
   "source": [
    "#### Výpočet dráhových a časových rozdílů pro určitý bod"
   ]
  },
  {
   "cell_type": "code",
   "execution_count": 52,
   "id": "1d1035ca-2797-4f58-a921-3b66a6ac3747",
   "metadata": {},
   "outputs": [],
   "source": [
    "def adjust_delays( cabinets : list, point_x, point_y, point_z, temp : float ) -> list:\n",
    "    return_cabs = list()\n",
    "    \n",
    "    first_cabinet = cabinets[0]\n",
    "    \n",
    "    distance_to_first = distance_of_two_points(\n",
    "        x1=first_cabinet.x,\n",
    "        x2=first_cabinet.y,\n",
    "        x3=first_cabinet.z,\n",
    "        y1=point_x,\n",
    "        y2=point_y,\n",
    "        y3=point_z\n",
    "    )\n",
    "    \n",
    "    return_cabs.append(first_cabinet)\n",
    "    \n",
    "    print(distance_to_first)\n",
    "    \n",
    "    for index, cabinet in enumerate(cabinets[1:]):\n",
    "        distance = distance_of_two_points(\n",
    "            x1 = cabinet.x,\n",
    "            x2 = cabinet.y,\n",
    "            x3 = cabinet.z,\n",
    "            y1 = point_x,\n",
    "            y2 = point_y,\n",
    "            y3 = point_z\n",
    "        )\n",
    "        \n",
    "        distance_dif = distance_to_first - distance\n",
    "        \n",
    "        cabinet.delay = (distance_dif / sound_wave_velocity( temp )) * 1000\n",
    "        return_cabs.append(cabinet)\n",
    "        \n",
    "        print(\"Dst={0} ; Diff={1}\".format(distance, distance_dif))\n",
    "    \n",
    "    return return_cabs\n"
   ]
  },
  {
   "cell_type": "code",
   "execution_count": 53,
   "id": "4eef3fdb-7848-4fcc-8644-c6be6413273a",
   "metadata": {},
   "outputs": [
    {
     "name": "stdout",
     "output_type": "stream",
     "text": [
      "9.539392014169456\n",
      "Dst=8.955725213655228 ; Diff=0.5836668005142283\n",
      "Dst=8.67852847031108 ; Diff=0.8608635438583754\n",
      "Dst=8.737020483122377 ; Diff=0.8023715310470791\n"
     ]
    }
   ],
   "source": [
    "adjusted_cabs = adjust_delays(rotated_cabinets, 10, 0, 0, 20)"
   ]
  },
  {
   "cell_type": "code",
   "execution_count": 54,
   "id": "eb9c2666-e5d4-4297-96cc-697a4e5b49f0",
   "metadata": {},
   "outputs": [
    {
     "name": "stdout",
     "output_type": "stream",
     "text": [
      "Cabinet: 1 ; x=0.5000000000000001 ; y=0.8660254037844386 ; z=0 ; heading=60 ; delay=0.0\n",
      "Cabinet: 2 ; x=1.359275 ; y=2.354333361458185 ; z=0 ; heading=60 ; delay=1.6981373847552539\n",
      "Cabinet: 3 ; x=2.21855 ; y=3.842641319131932 ; z=0 ; heading=60 ; delay=2.5046217563014617\n",
      "Cabinet: 4 ; x=3.0778250000000007 ; y=5.330949276805679 ; z=0 ; heading=60 ; delay=2.3344433710019468\n"
     ]
    }
   ],
   "source": [
    "print_cabinets(adjusted_cabs)"
   ]
  },
  {
   "cell_type": "markdown",
   "id": "4e9906d1-8ae3-42f9-ac68-bc31f24ba9bc",
   "metadata": {},
   "source": [
    "### Úbytek akustického tlaku na vzdálenosti"
   ]
  },
  {
   "cell_type": "code",
   "execution_count": 6,
   "id": "55c60f37-077b-4243-895b-cfa6ae352f77",
   "metadata": {},
   "outputs": [],
   "source": [
    "def sound_pressure_level_change_from_distance_offset( first_distance : float, second_distance : float ) -> float:\n",
    "    return 20*math.log10( first_distance / second_distance )\n",
    "    "
   ]
  },
  {
   "cell_type": "code",
   "execution_count": 8,
   "id": "d50b9bd6-127b-47b3-ae54-d7139dfbbfa0",
   "metadata": {},
   "outputs": [
    {
     "name": "stdout",
     "output_type": "stream",
     "text": [
      "Attenuation: -6.020599913279624\n"
     ]
    }
   ],
   "source": [
    "first_distance = 1.0\n",
    "second_distance = 2.0\n",
    "spl_diff = sound_pressure_level_change_from_distance_offset( first_distance, second_distance )\n",
    "print(\"Attenuation: {0}\".format(spl_diff))"
   ]
  },
  {
   "cell_type": "code",
   "execution_count": null,
   "id": "00c23142-f1a8-49ff-8a2e-eaf4b739c696",
   "metadata": {},
   "outputs": [],
   "source": []
  }
 ],
 "metadata": {
  "kernelspec": {
   "display_name": "Python 3 (ipykernel)",
   "language": "python",
   "name": "python3"
  },
  "language_info": {
   "codemirror_mode": {
    "name": "ipython",
    "version": 3
   },
   "file_extension": ".py",
   "mimetype": "text/x-python",
   "name": "python",
   "nbconvert_exporter": "python",
   "pygments_lexer": "ipython3",
   "version": "3.10.4"
  }
 },
 "nbformat": 4,
 "nbformat_minor": 5
}
