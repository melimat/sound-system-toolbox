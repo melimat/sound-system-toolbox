{
 "cells": [
  {
   "cell_type": "code",
   "execution_count": 6,
   "id": "ba31843d-8a01-4fb0-bfbc-0d26e06b212a",
   "metadata": {},
   "outputs": [],
   "source": [
    "import math"
   ]
  },
  {
   "cell_type": "markdown",
   "id": "516130df-9e21-4b86-970c-9702a6af2938",
   "metadata": {
    "tags": []
   },
   "source": [
    "## Rychlost zvuku ve vzduchu v závislosti na teplotě"
   ]
  },
  {
   "cell_type": "markdown",
   "id": "aab50359-9ec5-4de8-9a3b-e2942c1b92dd",
   "metadata": {},
   "source": [
    "Jednoduchá funkce pro výpočet rychlosti zvuku v závislosti na teplotě ve °C\n",
    "\n",
    "Dle vztahu:\n",
    "$$\n",
    "v(T) = 331.57 + 0.607 \\cdot T\n",
    "$$\n",
    "Kde $\\{T\\}=°C$"
   ]
  },
  {
   "cell_type": "code",
   "execution_count": 7,
   "id": "a4dd3590-ae0a-42ca-8d54-2d81ed03da01",
   "metadata": {},
   "outputs": [],
   "source": [
    "def sound_wave_velocity( temperature : float ) -> float:\n",
    "    return float(331.57 + 0.607 * temperature)"
   ]
  },
  {
   "cell_type": "markdown",
   "id": "ef4a66d4-eeda-451d-8292-f72b7c0e4b37",
   "metadata": {
    "tags": []
   },
   "source": [
    "## Vlnová dělka"
   ]
  },
  {
   "cell_type": "markdown",
   "id": "e13c6fd4-eece-4285-a2fa-756254cc9afd",
   "metadata": {},
   "source": [
    "Výpočet vlnové délky v závislosti na frekvenci vlnění a jeho rychlosti.\n",
    "\n",
    "Dle vztahu:\n",
    "$$\n",
    "\\lambda(v,f) = \\frac{v}{f} \n",
    "$$\n",
    "\n",
    "Vstupní parametry:\n",
    "* `freq` - frekvence\n",
    "* `velocity` - rychlost"
   ]
  },
  {
   "cell_type": "code",
   "execution_count": 8,
   "id": "ae3a2171-01be-43de-b9ab-89218f1a0900",
   "metadata": {},
   "outputs": [],
   "source": [
    "def sound_wavelength( freq : float, velocity : float ) -> float:\n",
    "    return float( velocity / freq )"
   ]
  },
  {
   "cell_type": "markdown",
   "id": "c67ea032-f2f9-46ce-babc-cb4c1a44dec7",
   "metadata": {},
   "source": [
    "## Endfire/inline gradient spacing"
   ]
  },
  {
   "cell_type": "code",
   "execution_count": 9,
   "id": "f2c9246d-44d2-4a1b-a432-dd3f18e92708",
   "metadata": {},
   "outputs": [],
   "source": [
    "def sub_spacing( freq : float, temperature : float ) -> float:\n",
    "    velocity = sound_wave_velocity(temperature)\n",
    "    sound_wavelength = sound_wavelength(freq, velocity)\n",
    "    return float(sound_wavelength / 4)"
   ]
  },
  {
   "cell_type": "markdown",
   "id": "0c457f8d-e5ee-456c-9d91-41fa798fd7ce",
   "metadata": {},
   "source": [
    "## FAR"
   ]
  },
  {
   "cell_type": "markdown",
   "id": "4b117607-3473-404c-9797-7c4a4f6febe0",
   "metadata": {},
   "source": [
    "[https://www.sounddesignlive.com/one-simple-tool-find-right-size-speaker-space/](https://www.sounddesignlive.com/one-simple-tool-find-right-size-speaker-space/)"
   ]
  },
  {
   "cell_type": "code",
   "execution_count": 10,
   "id": "ad861e00-5d62-4339-a6c0-5abc1e8a3404",
   "metadata": {},
   "outputs": [],
   "source": [
    "def FAR_coefficient( depth : float, width : float ) -> float:\n",
    "    return float( depth / width )"
   ]
  },
  {
   "cell_type": "markdown",
   "id": "174bfe84-8dc5-4675-926a-9bc2ff3b5f7a",
   "metadata": {},
   "source": [
    "### Převod FAR na vyzřovací úhel"
   ]
  },
  {
   "cell_type": "code",
   "execution_count": 15,
   "id": "2ba5f27b-1b76-43cd-b1c3-b8f4cea90432",
   "metadata": {},
   "outputs": [],
   "source": [
    "def angle_from_FAR( far_coef : float ) -> float:\n",
    "    angle_in_rads = 2 * math.asin( 1 / far_coef )\n",
    "    return float( angle_in_rads * (360 / (2 * math.pi)))"
   ]
  },
  {
   "cell_type": "code",
   "execution_count": 16,
   "id": "ffb4bf44-58d4-47bd-8bd8-0caadb46fb9d",
   "metadata": {},
   "outputs": [
    {
     "name": "stdout",
     "output_type": "stream",
     "text": [
      "FAR: 2.0 ; ANGLE: 60.00000000000001\n"
     ]
    }
   ],
   "source": [
    "depth = 50\n",
    "width = 25\n",
    "FAR = FAR_coefficient( depth=depth, width=width )\n",
    "angle = angle_from_FAR( FAR )\n",
    "\n",
    "print(\"FAR: {0} ; ANGLE: {1}\".format(FAR, angle))"
   ]
  }
 ],
 "metadata": {
  "kernelspec": {
   "display_name": "Python 3 (ipykernel)",
   "language": "python",
   "name": "python3"
  },
  "language_info": {
   "codemirror_mode": {
    "name": "ipython",
    "version": 3
   },
   "file_extension": ".py",
   "mimetype": "text/x-python",
   "name": "python",
   "nbconvert_exporter": "python",
   "pygments_lexer": "ipython3",
   "version": "3.10.4"
  }
 },
 "nbformat": 4,
 "nbformat_minor": 5
}
