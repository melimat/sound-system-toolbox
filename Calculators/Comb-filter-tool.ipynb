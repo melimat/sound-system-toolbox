{
 "cells": [
  {
   "cell_type": "markdown",
   "id": "f62b4262-fc86-464e-b41d-44a49fd018bf",
   "metadata": {},
   "source": [
    "## Comb filter tool"
   ]
  },
  {
   "cell_type": "code",
   "execution_count": 1,
   "id": "c6dca3c7-9d22-4a9e-bd87-afdb910b579d",
   "metadata": {},
   "outputs": [
    {
     "name": "stdout",
     "output_type": "stream",
     "text": [
      "importing Jupyter notebook from Calculators.ipynb\n",
      "1.4321249999999999\n",
      "FAR: 1.3043478260869565 ; ANGLE: 100.11098962037022\n",
      "Cabinet: 1 ; x=1.0 ; y=0 ; z=0 ; heading=0 ; delay=0.0\n",
      "Cabinet: 2 ; x=2.7185499999999996 ; y=0 ; z=0 ; heading=0 ; delay=5.0\n",
      "Cabinet: 3 ; x=4.437099999999999 ; y=0 ; z=0 ; heading=0 ; delay=10.0\n",
      "Cabinet: 4 ; x=6.15565 ; y=0 ; z=0 ; heading=0 ; delay=15.0\n",
      "0.5235987755982988\n",
      "Cabinet: 1 ; x=0.8660254037844387 ; y=0.49999999999999994 ; z=0 ; heading=30 ; delay=0.0\n",
      "Cabinet: 2 ; x=2.3543333614581856 ; y=1.3592749999999996 ; z=0 ; heading=30 ; delay=5.0\n",
      "Cabinet: 3 ; x=3.8426413191319324 ; y=2.218549999999999 ; z=0 ; heading=30 ; delay=10.0\n",
      "Cabinet: 4 ; x=5.33094927680568 ; y=3.0778249999999994 ; z=0 ; heading=30 ; delay=15.0\n",
      "9.147649530032904\n",
      "Dst=7.7655551555144005 ; Diff=1.3820943745185037\n",
      "Dst=6.544847593898681 ; Diff=2.602801936134223\n",
      "Dst=5.592230448254649 ; Diff=3.555419081778255\n",
      "Cabinet: 1 ; x=0.8660254037844387 ; y=0.49999999999999994 ; z=0 ; heading=30 ; delay=0.0\n",
      "Cabinet: 2 ; x=2.3543333614581856 ; y=1.3592749999999996 ; z=0 ; heading=30 ; delay=4.021106090944412\n",
      "Cabinet: 3 ; x=3.8426413191319324 ; y=2.218549999999999 ; z=0 ; heading=30 ; delay=7.572668633831494\n",
      "Cabinet: 4 ; x=5.33094927680568 ; y=3.0778249999999994 ; z=0 ; heading=30 ; delay=10.344241022310248\n",
      "Attenuation: -6.020599913279624\n"
     ]
    }
   ],
   "source": [
    "import math\n",
    "import pandas as pd\n",
    "import numpy as np\n",
    "import plotly.express as px\n",
    "import plotly.graph_objs as go\n",
    "from plotly.subplots import make_subplots\n",
    "import import_ipynb\n",
    "\n",
    "from dataclasses import dataclass\n",
    "from enum import Enum\n",
    "import copy\n",
    "\n",
    "import Calculators"
   ]
  },
  {
   "cell_type": "code",
   "execution_count": 3,
   "id": "54fe7c64-fb35-4882-bfa7-5378b460cc2c",
   "metadata": {},
   "outputs": [],
   "source": [
    "def phase_from_time_offset( time_offset : float, frequency : float ) -> float:\n",
    "    period = float( 1 / frequency )\n",
    "    phase = ( 360 * ( time_offset / period ) )\n",
    "    return phase"
   ]
  },
  {
   "cell_type": "code",
   "execution_count": 6,
   "id": "969a3028-ea29-441b-a8b9-ef145f99f5cd",
   "metadata": {},
   "outputs": [],
   "source": [
    "def vector_sum( first_amplitude : float, second_amplitude : float, phase_offset : float ):\n",
    "    pass"
   ]
  },
  {
   "cell_type": "code",
   "execution_count": null,
   "id": "50b0cfc0-6459-440c-bcc1-ca8c3fdd8249",
   "metadata": {},
   "outputs": [],
   "source": []
  }
 ],
 "metadata": {
  "kernelspec": {
   "display_name": "Python 3 (ipykernel)",
   "language": "python",
   "name": "python3"
  },
  "language_info": {
   "codemirror_mode": {
    "name": "ipython",
    "version": 3
   },
   "file_extension": ".py",
   "mimetype": "text/x-python",
   "name": "python",
   "nbconvert_exporter": "python",
   "pygments_lexer": "ipython3",
   "version": "3.10.4"
  }
 },
 "nbformat": 4,
 "nbformat_minor": 5
}
